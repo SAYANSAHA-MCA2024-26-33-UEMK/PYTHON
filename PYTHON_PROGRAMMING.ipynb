{
  "nbformat": 4,
  "nbformat_minor": 0,
  "metadata": {
    "colab": {
      "provenance": [],
      "toc_visible": true,
      "authorship_tag": "ABX9TyMP3L56FesjAmqpGm6O58ZE",
      "include_colab_link": true
    },
    "kernelspec": {
      "name": "python3",
      "display_name": "Python 3"
    },
    "language_info": {
      "name": "python"
    }
  },
  "cells": [
    {
      "cell_type": "markdown",
      "metadata": {
        "id": "view-in-github",
        "colab_type": "text"
      },
      "source": [
        "<a href=\"https://colab.research.google.com/github/SAYANSAHA-MCA2024-26-33-UEMK/PYTHON/blob/main/PYTHON_PROGRAMMING.ipynb\" target=\"_parent\"><img src=\"https://colab.research.google.com/assets/colab-badge.svg\" alt=\"Open In Colab\"/></a>"
      ]
    },
    {
      "cell_type": "markdown",
      "source": [
        "# SLICING"
      ],
      "metadata": {
        "id": "DgN7sGU7l9HW"
      }
    },
    {
      "cell_type": "code",
      "execution_count": null,
      "metadata": {
        "colab": {
          "base_uri": "https://localhost:8080/",
          "height": 53
        },
        "id": "dV76brZD9XKN",
        "outputId": "8a363f30-4856-4050-ae78-89cb8ba5bc20"
      },
      "outputs": [
        {
          "output_type": "stream",
          "name": "stdout",
          "text": [
            "[50, 20]\n"
          ]
        },
        {
          "output_type": "execute_result",
          "data": {
            "text/plain": [
              "'print(list[1:3])'"
            ],
            "application/vnd.google.colaboratory.intrinsic+json": {
              "type": "string"
            }
          },
          "metadata": {},
          "execution_count": 9
        }
      ],
      "source": [
        "list=[40,50,20,30,90]\n",
        "a=list[1:3]\n",
        "print(a)\n",
        "'''print(list[1:3])'''"
      ]
    },
    {
      "cell_type": "code",
      "source": [
        "list=[40,50,20,30,90]\n",
        "a=list[1:4]\n",
        "print(a)"
      ],
      "metadata": {
        "colab": {
          "base_uri": "https://localhost:8080/"
        },
        "id": "j1aPvVaq-ncY",
        "outputId": "c290a725-adce-4836-86a1-f1c58eeedf09"
      },
      "execution_count": null,
      "outputs": [
        {
          "output_type": "stream",
          "name": "stdout",
          "text": [
            "[50, 20, 30]\n"
          ]
        }
      ]
    },
    {
      "cell_type": "code",
      "source": [
        "list=[40,50,20,30,90]\n",
        "a=list[:5]\n",
        "print(a)"
      ],
      "metadata": {
        "colab": {
          "base_uri": "https://localhost:8080/"
        },
        "id": "XCyb6AHR-z-P",
        "outputId": "cd9b1316-2891-4a40-81df-ffdade000f44"
      },
      "execution_count": null,
      "outputs": [
        {
          "output_type": "stream",
          "name": "stdout",
          "text": [
            "[40, 50, 20, 30, 90]\n"
          ]
        }
      ]
    },
    {
      "cell_type": "code",
      "source": [
        "list=[40,50,20,30,90]\n",
        "a=list[::-1]\n",
        "print(a)"
      ],
      "metadata": {
        "colab": {
          "base_uri": "https://localhost:8080/"
        },
        "id": "ZFkDKewN-6QW",
        "outputId": "0732dc71-50db-4237-a0a9-796e9d71f45e"
      },
      "execution_count": null,
      "outputs": [
        {
          "output_type": "stream",
          "name": "stdout",
          "text": [
            "[90, 30, 20, 50, 40]\n"
          ]
        }
      ]
    },
    {
      "cell_type": "code",
      "source": [
        "list=[40,50,20,30,90]\n",
        "a=list[0:4:2]\n",
        "print(a)"
      ],
      "metadata": {
        "colab": {
          "base_uri": "https://localhost:8080/"
        },
        "id": "H98dVtLa_JZf",
        "outputId": "7e8412ce-e97e-4dd9-ba93-3cfda5fac919"
      },
      "execution_count": null,
      "outputs": [
        {
          "output_type": "stream",
          "name": "stdout",
          "text": [
            "[40, 20]\n"
          ]
        }
      ]
    },
    {
      "cell_type": "code",
      "source": [
        "list=[40,50,20,30,90]\n",
        "a=list[0:2:2]\n",
        "print(a)"
      ],
      "metadata": {
        "colab": {
          "base_uri": "https://localhost:8080/"
        },
        "id": "qjAxblG1Agp2",
        "outputId": "b4cc2de2-f6b6-4748-8bc3-956733015f35"
      },
      "execution_count": null,
      "outputs": [
        {
          "output_type": "stream",
          "name": "stdout",
          "text": [
            "[40]\n"
          ]
        }
      ]
    },
    {
      "cell_type": "markdown",
      "source": [
        "# BASIC PYTHON"
      ],
      "metadata": {
        "id": "79q3PFB3mIPu"
      }
    },
    {
      "cell_type": "code",
      "source": [
        "'''Write a PYTHON Program to Print “HELLO PYTHON”.'''\n",
        "print(\"HELLO PYTHON\")"
      ],
      "metadata": {
        "colab": {
          "base_uri": "https://localhost:8080/"
        },
        "id": "v_k33PTVBRAT",
        "outputId": "9b398939-4511-4f8d-8ae9-7181d851460c"
      },
      "execution_count": null,
      "outputs": [
        {
          "output_type": "stream",
          "name": "stdout",
          "text": [
            "HELLO PYTHON\n"
          ]
        }
      ]
    },
    {
      "cell_type": "code",
      "source": [
        "'''Write a Java Program to add two numbers by declaring variables value.'''\n",
        "a=int(input(\"enter the 1st number:\"))\n",
        "b=int(input(\"enter the 2nd number:\"))\n",
        "sum=a+b\n",
        "print(\"the sum of the two number:\",sum)"
      ],
      "metadata": {
        "colab": {
          "base_uri": "https://localhost:8080/"
        },
        "id": "YsrsopGNBfnr",
        "outputId": "abc5b69e-c533-47a5-8ee3-e9da010ced0a"
      },
      "execution_count": null,
      "outputs": [
        {
          "output_type": "stream",
          "name": "stdout",
          "text": [
            "enter the 1st number:5\n",
            "enter the 2nd number:6\n",
            "the sum of the two number: 11\n"
          ]
        }
      ]
    },
    {
      "cell_type": "code",
      "source": [
        "\"Write a Java program to swap two numbers.\"\n",
        "a=int(input(\"enter the 1st number:\"))\n",
        "b=int(input(\"enter the 2nd number:\"))\n",
        "print(\"before swapping the value\")\n",
        "print(\"1st value is:\",a)\n",
        "print(\"2nd value is:\",b)\n",
        "print(\"after swapping the value\")\n",
        "swap=a\n",
        "a=b\n",
        "b=swap\n",
        "print(\"1st value is:\",a)\n",
        "print(\"2nd value is:\",b)"
      ],
      "metadata": {
        "colab": {
          "base_uri": "https://localhost:8080/"
        },
        "id": "Zy7fXohcE-yV",
        "outputId": "5def73e8-fa81-4bfa-9091-2b5e27f49fac"
      },
      "execution_count": null,
      "outputs": [
        {
          "output_type": "stream",
          "name": "stdout",
          "text": [
            "enter the 1st number:5\n",
            "enter the 2nd number:4\n",
            "before swapping the value\n",
            "1st value is: 5\n",
            "2nd value is: 4\n",
            "after swapping the value\n",
            "1st value is: 4\n",
            "2nd value is: 5\n"
          ]
        }
      ]
    },
    {
      "cell_type": "markdown",
      "source": [
        "# STAR PATTERN"
      ],
      "metadata": {
        "id": "haaIJHtoo4_X"
      }
    },
    {
      "cell_type": "code",
      "source": [
        "n=int(input(\"enter the number:\"))\n",
        "for i in range(1,n+1):\n",
        "  for j in range(1,i+1):\n",
        "    print(\"*\",end=\"\")\n",
        "  print()"
      ],
      "metadata": {
        "colab": {
          "base_uri": "https://localhost:8080/"
        },
        "id": "NyaYF-cAo8Vn",
        "outputId": "dcea7681-43c8-4b02-f953-a514930958b4"
      },
      "execution_count": null,
      "outputs": [
        {
          "output_type": "stream",
          "name": "stdout",
          "text": [
            "enter the number:5\n",
            "*\n",
            "**\n",
            "***\n",
            "****\n",
            "*****\n"
          ]
        }
      ]
    },
    {
      "cell_type": "code",
      "source": [
        "n=int(input(\"enter the number:\"))\n",
        "for i in range(1,n+1):\n",
        "  for j in range(1,n+1):\n",
        "    if((i+j)<=n):\n",
        "      print(end=\" \")\n",
        "    else:\n",
        "      print(\"*\",end=\"\")\n",
        "  print(\"\")"
      ],
      "metadata": {
        "colab": {
          "base_uri": "https://localhost:8080/"
        },
        "id": "R4ucJtAnqYtb",
        "outputId": "96033b5a-1d44-4a8a-e3a2-3c34330a7c30"
      },
      "execution_count": null,
      "outputs": [
        {
          "output_type": "stream",
          "name": "stdout",
          "text": [
            "enter the number:5\n",
            "    *\n",
            "   **\n",
            "  ***\n",
            " ****\n",
            "*****\n"
          ]
        }
      ]
    },
    {
      "cell_type": "code",
      "source": [
        "n=int(input(\"enter the number:\"))\n",
        "for i in range(1,n+1):\n",
        "  for k in range(1,n-i+1):\n",
        "    print(end=\" \")\n",
        "  for j in range(1,2*i-1+1):\n",
        "    print(\"*\",end=\"\")\n",
        "  print(\"\")"
      ],
      "metadata": {
        "colab": {
          "base_uri": "https://localhost:8080/"
        },
        "id": "fR_b467cwTTj",
        "outputId": "bbbac9ff-7137-4a27-8a1e-36a0e29a83b8"
      },
      "execution_count": null,
      "outputs": [
        {
          "output_type": "stream",
          "name": "stdout",
          "text": [
            "enter the number:5\n",
            "    *\n",
            "   ***\n",
            "  *****\n",
            " *******\n",
            "*********\n"
          ]
        }
      ]
    },
    {
      "cell_type": "code",
      "source": [
        "n=int(input(\"enter the number:\"))\n",
        "for i in range(1,n+1):\n",
        "  for k in range(1,n-i+1):\n",
        "    print(end=\" \")\n",
        "  for j in range(1,2*i-1+1):\n",
        "    print(\"*\",end=\"\")\n",
        "  print(\"\")\n",
        "for i in range(n-1,0,-1):\n",
        "  for k in range(1,n-i+1):\n",
        "    print(end=\" \")\n",
        "  for j in range(1,2*i-1+1):\n",
        "    print(\"*\",end=\"\")\n",
        "  print(\"\")"
      ],
      "metadata": {
        "colab": {
          "base_uri": "https://localhost:8080/"
        },
        "id": "_ou3bGplyKLn",
        "outputId": "f68e3ffb-5682-4414-be38-29776cbd3a27"
      },
      "execution_count": null,
      "outputs": [
        {
          "output_type": "stream",
          "name": "stdout",
          "text": [
            "enter the number:5\n",
            "    *\n",
            "   ***\n",
            "  *****\n",
            " *******\n",
            "*********\n",
            " *******\n",
            "  *****\n",
            "   ***\n",
            "    *\n"
          ]
        }
      ]
    },
    {
      "cell_type": "code",
      "source": [
        "n=int(input(\"enter the number:\"))\n",
        "for i in range(1,n+1):\n",
        "  for j in range(1,n+1):\n",
        "    if((i+j)<=n):\n",
        "      print(end=\" \")\n",
        "    else:\n",
        "      print(\"*\",end=\" \")\n",
        "  print(\"\")"
      ],
      "metadata": {
        "colab": {
          "base_uri": "https://localhost:8080/"
        },
        "id": "zc5POTU_08Pg",
        "outputId": "e796a096-4d94-4355-a90d-27b55dfffd6a"
      },
      "execution_count": null,
      "outputs": [
        {
          "output_type": "stream",
          "name": "stdout",
          "text": [
            "enter the number:5\n",
            "    * \n",
            "   * * \n",
            "  * * * \n",
            " * * * * \n",
            "* * * * * \n"
          ]
        }
      ]
    },
    {
      "cell_type": "code",
      "source": [
        "n=int(input(\"enter the number:\"))\n",
        "for i in range(1,n+1):\n",
        "  for j in range(1,n+1):\n",
        "    if((i+j)<=n):\n",
        "      print(end=\" \")\n",
        "    else:\n",
        "      print(\"*\",end=\" \")\n",
        "  print(\"\")\n",
        "for i in range(n-1,0,-1):\n",
        "  for j in range(1,n+1):\n",
        "    if((i+j)<=n):\n",
        "      print(end=\" \")\n",
        "    else:\n",
        "      print(\"*\",end=\" \")\n",
        "  print(\"\")"
      ],
      "metadata": {
        "colab": {
          "base_uri": "https://localhost:8080/"
        },
        "id": "-wrfcN9X1RDn",
        "outputId": "bec284a3-f226-487c-a371-37c1ccb41aa2"
      },
      "execution_count": null,
      "outputs": [
        {
          "output_type": "stream",
          "name": "stdout",
          "text": [
            "enter the number:5\n",
            "    * \n",
            "   * * \n",
            "  * * * \n",
            " * * * * \n",
            "* * * * * \n",
            " * * * * \n",
            "  * * * \n",
            "   * * \n",
            "    * \n"
          ]
        }
      ]
    },
    {
      "cell_type": "code",
      "source": [
        "n=int(input(\"enter the number:\"))\n",
        "for i in range(1,n+1):\n",
        "  for j in range(1,n+1):\n",
        "    if(i==1 or i==n or j==1 or j==n):\n",
        "      print(\"*\",end=\"\")\n",
        "    else:\n",
        "      print(end=\" \")\n",
        "  print(\"\")"
      ],
      "metadata": {
        "colab": {
          "base_uri": "https://localhost:8080/"
        },
        "id": "U4vz1Ht34TIH",
        "outputId": "1aee1493-5949-4edc-9036-a85c9d032635"
      },
      "execution_count": null,
      "outputs": [
        {
          "output_type": "stream",
          "name": "stdout",
          "text": [
            "enter the number:5\n",
            "*****\n",
            "*   *\n",
            "*   *\n",
            "*   *\n",
            "*****\n"
          ]
        }
      ]
    },
    {
      "cell_type": "code",
      "source": [
        "n = 4\n",
        "for x in range(n):\n",
        "    px = 1\n",
        "    print(\" \" * (n - x), end=\"\")\n",
        "    for y in range(x + 1):\n",
        "        print(px, end=\" \")\n",
        "        px = px * (x - y) // (y+1)\n",
        "    print(\"\")"
      ],
      "metadata": {
        "colab": {
          "base_uri": "https://localhost:8080/"
        },
        "id": "IvzI6T8D6ZXq",
        "outputId": "1dfdc60e-c268-4bfb-fbef-f388fd1a6267"
      },
      "execution_count": null,
      "outputs": [
        {
          "output_type": "stream",
          "name": "stdout",
          "text": [
            "    1 \n",
            "   1 1 \n",
            "  1 2 1 \n",
            " 1 3 3 1 \n"
          ]
        }
      ]
    },
    {
      "cell_type": "code",
      "source": [
        "n = 7\n",
        "px = n // 2 + 1\n",
        "for x in range(1, n + 1):\n",
        "    for y in range(1, n + 1):\n",
        "        if y == px or y == n - px + 1:\n",
        "            print(\"*\", end=\"\")\n",
        "        else:\n",
        "            print(\" \", end=\"\")\n",
        "    if x <= n // 2:\n",
        "        px -= 1\n",
        "    else:\n",
        "        px +=1\n",
        "    print()"
      ],
      "metadata": {
        "colab": {
          "base_uri": "https://localhost:8080/"
        },
        "id": "2CI1vAPtFvqV",
        "outputId": "a36b6d95-27ce-4c02-e8b0-5f95e5cabfa3"
      },
      "execution_count": null,
      "outputs": [
        {
          "output_type": "stream",
          "name": "stdout",
          "text": [
            "   *   \n",
            "  * *  \n",
            " *   * \n",
            "*     *\n",
            " *   * \n",
            "  * *  \n",
            "   *   \n"
          ]
        }
      ]
    },
    {
      "cell_type": "markdown",
      "source": [
        "# NUMBER PATTERN"
      ],
      "metadata": {
        "id": "dnhzuZV413Ae"
      }
    },
    {
      "cell_type": "code",
      "source": [
        "n=int(input(\"enter the number:\"))\n",
        "for i in range(1,n+1):\n",
        "  for j in range(1,i+1):\n",
        "    print(j,end=\"\")\n",
        "  print()"
      ],
      "metadata": {
        "colab": {
          "base_uri": "https://localhost:8080/"
        },
        "id": "6pvHRtO018IF",
        "outputId": "c0a33526-1e81-45e1-f9e9-52d244c6f9e8"
      },
      "execution_count": null,
      "outputs": [
        {
          "output_type": "stream",
          "name": "stdout",
          "text": [
            "enter the number:5\n",
            "1\n",
            "12\n",
            "123\n",
            "1234\n",
            "12345\n"
          ]
        }
      ]
    },
    {
      "cell_type": "code",
      "source": [
        "n=int(input(\"enter the number:\"))\n",
        "k=1\n",
        "for i in range(1,n+1):\n",
        "  for j in range(1,i+1):\n",
        "    print(k,end=\" \")\n",
        "    k+=1\n",
        "  print()"
      ],
      "metadata": {
        "colab": {
          "base_uri": "https://localhost:8080/"
        },
        "id": "sLGe2osU3fBB",
        "outputId": "9c9db9d6-2449-42f6-fc4d-368441e6a072"
      },
      "execution_count": null,
      "outputs": [
        {
          "output_type": "stream",
          "name": "stdout",
          "text": [
            "enter the number:5\n",
            "1 \n",
            "2 3 \n",
            "4 5 6 \n",
            "7 8 9 10 \n",
            "11 12 13 14 15 \n"
          ]
        }
      ]
    },
    {
      "cell_type": "markdown",
      "source": [
        "# LOOP"
      ],
      "metadata": {
        "id": "GwEz2Vmnma7u"
      }
    },
    {
      "cell_type": "code",
      "source": [
        "\"Write a Java Program to calculate factorial value of a declared variable.\"\n",
        "a=int(input(\"enter the number:\"))\n",
        "fact=1\n",
        "for i in range(1,a+1):\n",
        "  fact=fact*i\n",
        "print(\"the factorial is:\",fact)"
      ],
      "metadata": {
        "colab": {
          "base_uri": "https://localhost:8080/"
        },
        "id": "l-tg7Qa0B8aK",
        "outputId": "1cd799a8-2289-46db-e2bc-16bcc78fba95"
      },
      "execution_count": null,
      "outputs": [
        {
          "output_type": "stream",
          "name": "stdout",
          "text": [
            "enter the number:5\n",
            "the factorial is: 120\n"
          ]
        }
      ]
    },
    {
      "cell_type": "markdown",
      "source": [
        "# DECISION_MAKING"
      ],
      "metadata": {
        "id": "v3qo0d6LmQLm"
      }
    },
    {
      "cell_type": "code",
      "source": [
        "\"Write a Java Program to display whether a number is odd or even\"\n",
        "a=int(input(\"enter the number:\"))\n",
        "if(a%2==0):\n",
        "  print(a,\" is a EVEN number\")\n",
        "else:\n",
        "  print(a,\" is a ODD number\")"
      ],
      "metadata": {
        "colab": {
          "base_uri": "https://localhost:8080/"
        },
        "id": "eGyGmab5Dn5g",
        "outputId": "df557803-8f5f-4a3f-c5a4-e688a3435798"
      },
      "execution_count": null,
      "outputs": [
        {
          "output_type": "stream",
          "name": "stdout",
          "text": [
            "enter the number:5\n",
            "5  is a ODD number\n"
          ]
        }
      ]
    },
    {
      "cell_type": "code",
      "source": [
        "\"Write a Java program to find maximum of three numbers.\"\n",
        "a=int(input(\"enter the 1st number:\"))\n",
        "b=int(input(\"enter the 2nd number:\"))\n",
        "c=int(input(\"enter the 3rd number:\"))\n",
        "if(a>b):\n",
        "  if(a>c):\n",
        "    print(a,\" 1st value is a maximum value\")\n",
        "  else:\n",
        "    print(c,\" 3rd value is a maximum value\")\n",
        "else:\n",
        "  if(b>c):\n",
        "    print(b,\" 2nd value is a maximum value\")\n",
        "  else:\n",
        "    print(c,\" 3rd value is a maximum value\")"
      ],
      "metadata": {
        "colab": {
          "base_uri": "https://localhost:8080/"
        },
        "id": "8eKcj1bbEBef",
        "outputId": "c9435578-d9f4-4d79-897a-d73f71902cb2"
      },
      "execution_count": null,
      "outputs": [
        {
          "output_type": "stream",
          "name": "stdout",
          "text": [
            "enter the 1st number:5\n",
            "enter the 2nd number:6\n",
            "enter the 3rd number:4\n",
            "6  1st value is a maximum value\n"
          ]
        }
      ]
    },
    {
      "cell_type": "code",
      "source": [
        "\"Write a Java program to check whether a year is leap year or not.\"\n",
        "year=int(input(\"enter the year:\"))\n",
        "if(year%100==0):\n",
        "  if(year%400==0):\n",
        "    print(year,\" is a leap year\")\n",
        "  else:\n",
        "    print(year,\" is a not leap year\")\n",
        "else:\n",
        "  if(year%4==0):\n",
        "    print(year,\" is a leap year\")\n",
        "  else:\n",
        "    print(year,\" is a not leap year\")"
      ],
      "metadata": {
        "colab": {
          "base_uri": "https://localhost:8080/"
        },
        "id": "rchkDFPuE7NG",
        "outputId": "e7cc34aa-5bc1-4e5b-e336-64c03ac8e1fd"
      },
      "execution_count": null,
      "outputs": [
        {
          "output_type": "stream",
          "name": "stdout",
          "text": [
            "enter the year:2012\n",
            "2012  is a leap year\n"
          ]
        }
      ]
    },
    {
      "cell_type": "code",
      "source": [
        "'''Write a Java program for following grading system.\n",
        "Note: Percentage>=90% : Grade A\n",
        "Percentage>=80% : Grade B\n",
        "Percentage>=70% : Grade C\n",
        "Percentage>=60% : Grade D\n",
        "Percentage>=40% : Grade E\n",
        "Percentage < 40% : Grade F'''\n",
        "marks=int(input(\"enter the marks:\"))\n",
        "if(marks<=100 and marks>=90):\n",
        "  print(marks,\" Grade A\")\n",
        "elif(marks<=90 and marks>=80):\n",
        "  print(marks,\" Grade B\")\n",
        "elif(marks<=80 and marks>=70):\n",
        "  print(marks,\" Grade C\")\n",
        "elif(marks<=70 and marks>=60):\n",
        "  print(marks,\" Grade D\")\n",
        "elif(marks<=60 and marks>=40):\n",
        "  print(marks,\" Grade E\")\n",
        "elif(marks<=40 and marks>=0):\n",
        "  print(marks,\" Grade F\")"
      ],
      "metadata": {
        "colab": {
          "base_uri": "https://localhost:8080/"
        },
        "id": "hUuyUN8mGczM",
        "outputId": "d69a71e5-91ec-4bc3-90fa-707303cacf17"
      },
      "execution_count": null,
      "outputs": [
        {
          "output_type": "stream",
          "name": "stdout",
          "text": [
            "enter the marks:20\n",
            "20  Grade f\n"
          ]
        }
      ]
    },
    {
      "cell_type": "code",
      "source": [
        "\"Write a Java Program to check whether a number is divisible by 5 or not.\"\n",
        "a=int(input(\"enter the number:\"))\n",
        "if(a%5==0):\n",
        "  print(a,\" is divisible by 5\")\n",
        "else:\n",
        "  print(a,\" is not divisible by 5\")"
      ],
      "metadata": {
        "colab": {
          "base_uri": "https://localhost:8080/"
        },
        "id": "H2WPI1j9H_KR",
        "outputId": "8350c3d7-b9ab-49dc-ee71-92e0694c4960"
      },
      "execution_count": null,
      "outputs": [
        {
          "output_type": "stream",
          "name": "stdout",
          "text": [
            "enter the number:23\n",
            "23  is not divisible by 5\n"
          ]
        }
      ]
    }
  ]
}